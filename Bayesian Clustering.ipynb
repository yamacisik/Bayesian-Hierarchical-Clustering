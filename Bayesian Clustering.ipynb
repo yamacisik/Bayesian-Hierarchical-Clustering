{
 "cells": [
  {
   "cell_type": "code",
   "execution_count": 1,
   "metadata": {},
   "outputs": [],
   "source": [
    "import numpy as np\n",
    "from scipy.special import factorial,multigammaln\n",
    "from decimal import Decimal\n",
    "import pandas as pd\n",
    "from sklearn.preprocessing import normalize\n",
    "import matplotlib.pyplot as plt\n",
    "import seaborn as sns\n",
    "from sklearn import cluster"
   ]
  },
  {
   "cell_type": "code",
   "execution_count": null,
   "metadata": {},
   "outputs": [],
   "source": [
    "## Define a new class called node which has the data points d_k and the number of the clusters\n",
    "\n",
    "\n",
    "class Node:\n",
    "\n",
    "\n",
    "    \n",
    "    def __init__(self,p,alpha,i):\n",
    "        \n",
    "        self.single=True\n",
    "        self.points=set()\n",
    "        self.points.add(p)\n",
    "        self.d=alpha\n",
    "        self.number=i\n",
    "        self.left=None\n",
    "        self.right=None\n",
    "        self.ph=0\n",
    "## Add list that holds probability with other nodes\n",
    "        self.pit={}\n",
    "        self.rit={}\n",
    "\n",
    "\n",
    "    def add(self,x):\n",
    "        self.points.add(x)\n",
    "        \n",
    "    def add_all(self,x):\n",
    "        self.points=x\n",
    "        \n",
    "    def remove(self,x):\n",
    "        self.points.remove(x)\n",
    "        \n",
    "    def combine(self,y,alpha,i=None):\n",
    "        ## Unless given a number set the number to the initial node\n",
    "        p=self.points.union(y.points)\n",
    "        z=Node(1,self.d,self.number)\n",
    "        if i!=None:\n",
    "            z.number=i\n",
    "        z.left=self\n",
    "        z.right=y\n",
    "        z.remove(1)\n",
    "        z.points=p\n",
    "        z.d= alpha*factorial(len(p)-1)+self.d*y.d\n",
    "        z.single=False\n",
    "        return z "
   ]
  }
 ],
 "metadata": {
  "kernelspec": {
   "display_name": "Python 3",
   "language": "python",
   "name": "python3"
  },
  "language_info": {
   "codemirror_mode": {
    "name": "ipython",
    "version": 3
   },
   "file_extension": ".py",
   "mimetype": "text/x-python",
   "name": "python",
   "nbconvert_exporter": "python",
   "pygments_lexer": "ipython3",
   "version": "3.6.4"
  }
 },
 "nbformat": 4,
 "nbformat_minor": 2
}
